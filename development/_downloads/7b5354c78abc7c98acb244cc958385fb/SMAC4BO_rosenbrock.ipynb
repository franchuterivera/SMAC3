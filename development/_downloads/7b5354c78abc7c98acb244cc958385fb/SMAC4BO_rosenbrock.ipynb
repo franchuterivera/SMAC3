{
  "cells": [
    {
      "cell_type": "code",
      "execution_count": null,
      "metadata": {
        "collapsed": false
      },
      "outputs": [],
      "source": [
        "%matplotlib inline"
      ]
    },
    {
      "cell_type": "markdown",
      "metadata": {},
      "source": [
        "\n# Using the black-box optimization interface of SMAC\n\n"
      ]
    },
    {
      "cell_type": "code",
      "execution_count": null,
      "metadata": {
        "collapsed": false
      },
      "outputs": [],
      "source": [
        "import logging\n\nimport numpy as np\nfrom ConfigSpace.hyperparameters import UniformFloatHyperparameter\n\n# Import ConfigSpace and different types of parameters\nfrom smac.configspace import ConfigurationSpace\nfrom smac.facade.smac_bo_facade import SMAC4BO\n# Import SMAC-utilities\nfrom smac.scenario.scenario import Scenario\n\n\ndef rosenbrock_2d(x):\n    \"\"\" The 2 dimensional Rosenbrock function as a toy model\n    The Rosenbrock function is well know in the optimization community and\n    often serves as a toy problem. It can be defined for arbitrary\n    dimensions. The minimium is always at x_i = 1 with a function value of\n    zero. All input parameters are continuous. The search domain for\n    all x's is the interval [-5, 10].\n    \"\"\"\n    x1 = x[\"x0\"]\n    x2 = x[\"x1\"]\n\n    val = 100. * (x2 - x1 ** 2.) ** 2. + (1 - x1) ** 2.\n    return val\n\n\nlogging.basicConfig(level=logging.INFO)  # logging.DEBUG for debug output\n\n# Build Configuration Space which defines all parameters and their ranges\ncs = ConfigurationSpace()\nx0 = UniformFloatHyperparameter(\"x0\", -5, 10, default_value=-3)\nx1 = UniformFloatHyperparameter(\"x1\", -5, 10, default_value=-4)\ncs.add_hyperparameters([x0, x1])\n\n# Scenario object\nscenario = Scenario({\"run_obj\": \"quality\",  # we optimize quality (alternatively runtime)\n                     \"runcount-limit\": 10,  # max. number of function evaluations; for this example set to a low number\n                     \"cs\": cs,  # configuration space\n                     \"deterministic\": \"true\"\n                     })\n\n# Example call of the function\n# It returns: Status, Cost, Runtime, Additional Infos\ndef_value = rosenbrock_2d(cs.get_default_configuration())\nprint(\"Default Value: %.2f\" % def_value)\n\n# Optimize, using a SMAC-object\nprint(\"Optimizing! Depending on your machine, this might take a few minutes.\")\nsmac = SMAC4BO(scenario=scenario,\n               rng=np.random.RandomState(42),\n               tae_runner=rosenbrock_2d,\n               )\n\nsmac.optimize()"
      ]
    }
  ],
  "metadata": {
    "kernelspec": {
      "display_name": "Python 3",
      "language": "python",
      "name": "python3"
    },
    "language_info": {
      "codemirror_mode": {
        "name": "ipython",
        "version": 3
      },
      "file_extension": ".py",
      "mimetype": "text/x-python",
      "name": "python",
      "nbconvert_exporter": "python",
      "pygments_lexer": "ipython3",
      "version": "3.8.6"
    }
  },
  "nbformat": 4,
  "nbformat_minor": 0
}