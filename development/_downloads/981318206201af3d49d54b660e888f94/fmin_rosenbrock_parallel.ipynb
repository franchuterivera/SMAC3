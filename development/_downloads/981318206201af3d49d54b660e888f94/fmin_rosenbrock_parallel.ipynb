{
  "cells": [
    {
      "cell_type": "code",
      "execution_count": null,
      "metadata": {
        "collapsed": false
      },
      "outputs": [],
      "source": [
        "%matplotlib inline"
      ]
    },
    {
      "cell_type": "markdown",
      "metadata": {},
      "source": [
        "\n# Parallel Intensifier with No Intensification\n\n\nThis example showcases how to use dask to\nlaunch parallel configurations via n_workers\n"
      ]
    },
    {
      "cell_type": "code",
      "execution_count": null,
      "metadata": {
        "collapsed": false
      },
      "outputs": [],
      "source": [
        "import logging\n\nfrom smac.intensification.simple_intensifier import SimpleIntensifier\nfrom smac.facade.func_facade import fmin_smac\n\n# --------------------------------------------------------------\n# We need to provide a pickable function and use __main__\n# to be compliant with multiprocessing API\n# Below is a work around to have a packaged function called\n# rosenbrock_2d\n# --------------------------------------------------------------\nimport os\nimport sys\nsys.path.append(os.path.join(os.path.dirname(__file__)))\nfrom rosenbrock_2d_delayed_func import rosenbrock_2d  # noqa: E402\n# --------------------------------------------------------------\n\nif __name__ == '__main__':\n\n    # debug output\n    logging.basicConfig(level=20)\n    logger = logging.getLogger(\"Optimizer\")  # Enable to show Debug outputs\n\n    # fmin_smac assumes that the function is deterministic\n    # and uses under the hood the SMAC4HPO\n    # n_workers tells the SMBO loop to execute in parallel\n    x, cost, smac = fmin_smac(\n        func=rosenbrock_2d,\n        intensifier=SimpleIntensifier,\n        x0=[-3, -4],\n        bounds=[(-5, 10), (-5, 10)],\n        maxfun=25,\n        rng=3,\n        n_jobs=4,\n    )  # Passing a seed makes fmin_smac determistic\n    print(\"Best x: %s; with cost: %f\" % (str(x), cost))"
      ]
    }
  ],
  "metadata": {
    "kernelspec": {
      "display_name": "Python 3",
      "language": "python",
      "name": "python3"
    },
    "language_info": {
      "codemirror_mode": {
        "name": "ipython",
        "version": 3
      },
      "file_extension": ".py",
      "mimetype": "text/x-python",
      "name": "python",
      "nbconvert_exporter": "python",
      "pygments_lexer": "ipython3",
      "version": "3.8.6"
    }
  },
  "nbformat": 4,
  "nbformat_minor": 0
}