{
  "cells": [
    {
      "cell_type": "code",
      "execution_count": null,
      "metadata": {
        "collapsed": false
      },
      "outputs": [],
      "source": [
        "%matplotlib inline"
      ]
    },
    {
      "cell_type": "markdown",
      "metadata": {},
      "source": [
        "\n# Optimizing an MLP with Hyperband\n\n\nAn example for the usage of a model-free Hyperband intensifier in SMAC.\nThe configurations are randomly sampled\n\nIn this example, we use a real-valued budget in hyperband (number of epochs to train the MLP) and\noptimize the average accuracy on a 5-fold cross validation.\n"
      ]
    },
    {
      "cell_type": "code",
      "execution_count": null,
      "metadata": {
        "collapsed": false
      },
      "outputs": [],
      "source": [
        "import logging\n\nfrom ConfigSpace.hyperparameters import CategoricalHyperparameter, \\\n    UniformFloatHyperparameter, UniformIntegerHyperparameter\n\nimport numpy as np\n\nfrom smac.configspace import ConfigurationSpace\nfrom smac.facade.hyperband_facade import HB4AC\nfrom smac.scenario.scenario import Scenario\n# --------------------------------------------------------------\nimport os\nimport sys\nsys.path.append(os.path.join(os.path.dirname(__file__)))\nfrom mlp_from_cfg_func import mlp_from_cfg  # noqa: E402\n# --------------------------------------------------------------\n\n\nlogger = logging.getLogger(\"MLP-example\")\nlogging.basicConfig(level=logging.INFO)\n\n# Build Configuration Space which defines all parameters and their ranges.\n# To illustrate different parameter types,\n# we use continuous, integer and categorical parameters.\ncs = ConfigurationSpace()\n\n# We can add multiple hyperparameters at once:\nn_layer = UniformIntegerHyperparameter(\"n_layer\", 1, 5, default_value=1)\nn_neurons = UniformIntegerHyperparameter(\"n_neurons\", 8, 1024, log=True, default_value=10)\nactivation = CategoricalHyperparameter(\"activation\", ['logistic', 'tanh', 'relu'],\n                                       default_value='tanh')\nbatch_size = UniformIntegerHyperparameter('batch_size', 30, 300, default_value=200)\nlearning_rate_init = UniformFloatHyperparameter('learning_rate_init', 0.0001, 1.0, default_value=0.001, log=True)\ncs.add_hyperparameters([n_layer, n_neurons, activation, batch_size, learning_rate_init])\n\n# SMAC scenario object\nscenario = Scenario({\"run_obj\": \"quality\",  # we optimize quality (alternative to runtime)\n                     \"wallclock-limit\": 100,  # max duration to run the optimization (in seconds)\n                     \"cs\": cs,  # configuration space\n                     \"deterministic\": \"true\",\n                     \"limit_resources\": True,  # Uses pynisher to limit memory and runtime\n                     # Alternatively, you can also disable this.\n                     # Then you should handle runtime and memory yourself in the TA\n                     \"cutoff\": 30,  # runtime limit for target algorithm\n                     \"memory_limit\": 3072,  # adapt this to reasonable value for your hardware\n                     })\n\n# max budget for hyperband can be anything. Here, we set it to maximum no. of epochs to train the MLP for\nmax_iters = 50\n# intensifier parameters\nintensifier_kwargs = {'initial_budget': 5, 'max_budget': max_iters, 'eta': 3}\n# To optimize, we pass the function to the SMAC-object\nsmac = HB4AC(scenario=scenario, rng=np.random.RandomState(42),\n             tae_runner=mlp_from_cfg,\n             intensifier_kwargs=intensifier_kwargs)  # all arguments related to intensifier can be passed like this\n\n# Example call of the function with default values\n# It returns: Status, Cost, Runtime, Additional Infos\ndef_value = smac.get_tae_runner().run(config=cs.get_default_configuration(),\n                                      instance='1', budget=max_iters, seed=0)[1]\nprint(\"Value for default configuration: %.4f\" % def_value)\n\n# Start optimization\ntry:\n    incumbent = smac.optimize()\nfinally:\n    incumbent = smac.solver.incumbent\n\ninc_value = smac.get_tae_runner().run(config=incumbent, instance='1',\n                                      budget=max_iters, seed=0)[1]\nprint(\"Optimized Value: %.4f\" % inc_value)"
      ]
    }
  ],
  "metadata": {
    "kernelspec": {
      "display_name": "Python 3",
      "language": "python",
      "name": "python3"
    },
    "language_info": {
      "codemirror_mode": {
        "name": "ipython",
        "version": 3
      },
      "file_extension": ".py",
      "mimetype": "text/x-python",
      "name": "python",
      "nbconvert_exporter": "python",
      "pygments_lexer": "ipython3",
      "version": "3.8.6"
    }
  },
  "nbformat": 4,
  "nbformat_minor": 0
}