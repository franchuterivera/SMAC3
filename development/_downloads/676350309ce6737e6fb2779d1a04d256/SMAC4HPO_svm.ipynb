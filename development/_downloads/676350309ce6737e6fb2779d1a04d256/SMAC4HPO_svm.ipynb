{
  "cells": [
    {
      "cell_type": "code",
      "execution_count": null,
      "metadata": {
        "collapsed": false
      },
      "outputs": [],
      "source": [
        "%matplotlib inline"
      ]
    },
    {
      "cell_type": "markdown",
      "metadata": {},
      "source": [
        "\n# Optimize the hyperparameters of a support vector machine\n\n\nAn example for the usage of SMAC within Python.\nWe optimize a simple SVM on the IRIS-benchmark.\n\nNote: SMAC-documentation uses linenumbers to generate docs from this file.\n"
      ]
    },
    {
      "cell_type": "code",
      "execution_count": null,
      "metadata": {
        "collapsed": false
      },
      "outputs": [],
      "source": [
        "import logging\n\nimport numpy as np\nfrom ConfigSpace.conditions import InCondition\nfrom ConfigSpace.hyperparameters import CategoricalHyperparameter, \\\n    UniformFloatHyperparameter, UniformIntegerHyperparameter\nfrom sklearn import svm, datasets\nfrom sklearn.model_selection import cross_val_score\n\n# Import ConfigSpace and different types of parameters\nfrom smac.configspace import ConfigurationSpace\nfrom smac.facade.smac_hpo_facade import SMAC4HPO\n# Import SMAC-utilities\nfrom smac.scenario.scenario import Scenario\n\n# We load the iris-dataset (a widely used benchmark)\niris = datasets.load_iris()\n\n\ndef svm_from_cfg(cfg):\n    \"\"\" Creates a SVM based on a configuration and evaluates it on the\n    iris-dataset using cross-validation.\n\n    Parameters:\n    -----------\n    cfg: Configuration (ConfigSpace.ConfigurationSpace.Configuration)\n        Configuration containing the parameters.\n        Configurations are indexable!\n\n    Returns:\n    --------\n    A crossvalidated mean score for the svm on the loaded data-set.\n    \"\"\"\n    # For deactivated parameters, the configuration stores None-values.\n    # This is not accepted by the SVM, so we remove them.\n    cfg = {k: cfg[k] for k in cfg if cfg[k]}\n    # We translate boolean values:\n    cfg[\"shrinking\"] = True if cfg[\"shrinking\"] == \"true\" else False\n    # And for gamma, we set it to a fixed value or to \"auto\" (if used)\n    if \"gamma\" in cfg:\n        cfg[\"gamma\"] = cfg[\"gamma_value\"] if cfg[\"gamma\"] == \"value\" else \"auto\"\n        cfg.pop(\"gamma_value\", None)  # Remove \"gamma_value\"\n\n    clf = svm.SVC(**cfg, random_state=42)\n\n    scores = cross_val_score(clf, iris.data, iris.target, cv=5)\n    return 1 - np.mean(scores)  # Minimize!\n\n\n# logger = logging.getLogger(\"SVMExample\")\nlogging.basicConfig(level=logging.INFO)  # logging.DEBUG for debug output\n\n# Build Configuration Space which defines all parameters and their ranges\ncs = ConfigurationSpace()\n\n# We define a few possible types of SVM-kernels and add them as \"kernel\" to our cs\nkernel = CategoricalHyperparameter(\"kernel\", [\"linear\", \"rbf\", \"poly\", \"sigmoid\"], default_value=\"poly\")\ncs.add_hyperparameter(kernel)\n\n# There are some hyperparameters shared by all kernels\nC = UniformFloatHyperparameter(\"C\", 0.001, 1000.0, default_value=1.0)\nshrinking = CategoricalHyperparameter(\"shrinking\", [\"true\", \"false\"], default_value=\"true\")\ncs.add_hyperparameters([C, shrinking])\n\n# Others are kernel-specific, so we can add conditions to limit the searchspace\ndegree = UniformIntegerHyperparameter(\"degree\", 1, 5, default_value=3)  # Only used by kernel poly\ncoef0 = UniformFloatHyperparameter(\"coef0\", 0.0, 10.0, default_value=0.0)  # poly, sigmoid\ncs.add_hyperparameters([degree, coef0])\nuse_degree = InCondition(child=degree, parent=kernel, values=[\"poly\"])\nuse_coef0 = InCondition(child=coef0, parent=kernel, values=[\"poly\", \"sigmoid\"])\ncs.add_conditions([use_degree, use_coef0])\n\n# This also works for parameters that are a mix of categorical and values from a range of numbers\n# For example, gamma can be either \"auto\" or a fixed float\ngamma = CategoricalHyperparameter(\"gamma\", [\"auto\", \"value\"], default_value=\"auto\")  # only rbf, poly, sigmoid\ngamma_value = UniformFloatHyperparameter(\"gamma_value\", 0.0001, 8, default_value=1)\ncs.add_hyperparameters([gamma, gamma_value])\n# We only activate gamma_value if gamma is set to \"value\"\ncs.add_condition(InCondition(child=gamma_value, parent=gamma, values=[\"value\"]))\n# And again we can restrict the use of gamma in general to the choice of the kernel\ncs.add_condition(InCondition(child=gamma, parent=kernel, values=[\"rbf\", \"poly\", \"sigmoid\"]))\n\n# Scenario object\nscenario = Scenario({\"run_obj\": \"quality\",  # we optimize quality (alternatively runtime)\n                     \"runcount-limit\": 50,  # max. number of function evaluations; for this example set to a low number\n                     \"cs\": cs,  # configuration space\n                     \"deterministic\": \"true\"\n                     })\n\n# Example call of the function\n# It returns: Status, Cost, Runtime, Additional Infos\ndef_value = svm_from_cfg(cs.get_default_configuration())\nprint(\"Default Value: %.2f\" % (def_value))\n\n# Optimize, using a SMAC-object\nprint(\"Optimizing! Depending on your machine, this might take a few minutes.\")\nsmac = SMAC4HPO(scenario=scenario, rng=np.random.RandomState(42),\n                tae_runner=svm_from_cfg)\n\nincumbent = smac.optimize()\n\ninc_value = svm_from_cfg(incumbent)\n\nprint(\"Optimized Value: %.2f\" % (inc_value))\n\n# We can also validate our results (though this makes a lot more sense with instances)\nsmac.validate(config_mode='inc',  # We can choose which configurations to evaluate\n              # instance_mode='train+test',  # Defines what instances to validate\n              repetitions=100,  # Ignored, unless you set \"deterministic\" to \"false\" in line 95\n              n_jobs=1)  # How many cores to use in parallel for optimization"
      ]
    }
  ],
  "metadata": {
    "kernelspec": {
      "display_name": "Python 3",
      "language": "python",
      "name": "python3"
    },
    "language_info": {
      "codemirror_mode": {
        "name": "ipython",
        "version": 3
      },
      "file_extension": ".py",
      "mimetype": "text/x-python",
      "name": "python",
      "nbconvert_exporter": "python",
      "pygments_lexer": "ipython3",
      "version": "3.8.6"
    }
  },
  "nbformat": 4,
  "nbformat_minor": 0
}